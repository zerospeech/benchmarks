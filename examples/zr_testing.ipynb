{
 "cells": [
  {
   "cell_type": "code",
   "execution_count": null,
   "metadata": {},
   "outputs": [],
   "source": [
    "# Testing upload\n",
    "from getpass import getpass\n",
    "from zerospeech.upload import CurrentUser\n",
    "\n",
    "password = getpass(prompt=\"Password: \")\n",
    "who = CurrentUser.login(credentials=('admin', password))\n"
   ]
  },
  {
   "cell_type": "code",
   "execution_count": 2,
   "metadata": {},
   "outputs": [],
   "source": [
    "# create a new model id\n",
    "md_id = who.new_model_id(\n",
    "    author_name=\"Hamilakis\",\n",
    "    description=\"a model that does nothing trained on nothing\",\n",
    "    train_set=\"trained on nothing\",\n",
    "    authors=\"Nicolas Hamilakis, Nobody None, And the Other guy\",\n",
    "    institution=\"ENS\",\n",
    "    gpu_budget=\"64\",\n",
    "    paper_url=None,\n",
    "    code_url=None,\n",
    "    team=\"CoML\"\n",
    ")"
   ]
  },
  {
   "cell_type": "code",
   "execution_count": 3,
   "metadata": {},
   "outputs": [
    {
     "data": {
      "text/plain": [
       "'\"Ham23a\"'"
      ]
     },
     "execution_count": 3,
     "metadata": {},
     "output_type": "execute_result"
    }
   ],
   "source": [
    "# create a new submission"
   ]
  }
 ],
 "metadata": {
  "kernelspec": {
   "display_name": "Python 3.9.14 64-bit ('zr-bench')",
   "language": "python",
   "name": "python3"
  },
  "language_info": {
   "codemirror_mode": {
    "name": "ipython",
    "version": 3
   },
   "file_extension": ".py",
   "mimetype": "text/x-python",
   "name": "python",
   "nbconvert_exporter": "python",
   "pygments_lexer": "ipython3",
   "version": "3.9.7"
  },
  "orig_nbformat": 4,
  "vscode": {
   "interpreter": {
    "hash": "d1da385c3704c36a0fc1b78896f214ded57d0f475a7c8a2720df970b3e945e6d"
   }
  }
 },
 "nbformat": 4,
 "nbformat_minor": 2
}
